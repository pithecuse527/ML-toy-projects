{
 "cells": [
  {
   "cell_type": "code",
   "execution_count": 1,
   "id": "593e3e72",
   "metadata": {},
   "outputs": [],
   "source": [
    "import pandas as pd\n",
    "import numpy as np\n",
    "import matplotlib.pyplot as plt\n",
    "\n",
    "np.random.seed(2022)"
   ]
  },
  {
   "cell_type": "markdown",
   "id": "19719d21",
   "metadata": {},
   "source": [
    "# 1. Univariate Regression"
   ]
  },
  {
   "cell_type": "markdown",
   "id": "112238ed",
   "metadata": {},
   "source": [
    "## 1.1 Sample Data\n",
    "Simple Sample Data"
   ]
  },
  {
   "cell_type": "code",
   "execution_count": 3,
   "id": "467c92b4",
   "metadata": {},
   "outputs": [],
   "source": [
    "X = np.array([1,2,3,4])\n",
    "y = np.array([2,1,4,3])"
   ]
  },
  {
   "cell_type": "code",
   "execution_count": 4,
   "id": "5f2459b8",
   "metadata": {},
   "outputs": [
    {
     "data": {
      "text/plain": [
       "<matplotlib.collections.PathCollection at 0x7f8b2c4cfe20>"
      ]
     },
     "execution_count": 4,
     "metadata": {},
     "output_type": "execute_result"
    },
    {
     "data": {
      "image/png": "[encoded data removed]",
      "text/plain": [
       "<Figure size 432x288 with 1 Axes>"
      ]
     },
     "metadata": {
      "needs_background": "light"
     },
     "output_type": "display_data"
    }
   ],
   "source": [
    "plt.scatter(X,y)"
   ]
  },
  {
   "cell_type": "markdown",
   "id": "28065906",
   "metadata": {},
   "source": [
    "## 1.2 Data Reshaping\n",
    "Scikit-learn needs (n, c) shape for model training\n",
    "- n stands for the number of data\n",
    "- c stands for the number of features"
   ]
  },
  {
   "cell_type": "code",
   "execution_count": 5,
   "id": "4f84cb3a",
   "metadata": {},
   "outputs": [
    {
     "data": {
      "text/plain": [
       "(4,)"
      ]
     },
     "execution_count": 5,
     "metadata": {},
     "output_type": "execute_result"
    }
   ],
   "source": [
    "X.shape  # avoid rank0 shape as possible"
   ]
  },
  {
   "cell_type": "code",
   "execution_count": 8,
   "id": "3ecbd7d0",
   "metadata": {},
   "outputs": [
    {
     "data": {
      "text/plain": [
       "(4, 1)"
      ]
     },
     "execution_count": 8,
     "metadata": {},
     "output_type": "execute_result"
    }
   ],
   "source": [
    "data = X.reshape(-1, 1)\n",
    "data.shape"
   ]
  },
  {
   "cell_type": "markdown",
   "id": "d63eedbc",
   "metadata": {},
   "source": [
    "## 1.3 Linear Regression"
   ]
  },
  {
   "cell_type": "code",
   "execution_count": 9,
   "id": "cb1472dd",
   "metadata": {},
   "outputs": [],
   "source": [
    "from sklearn.linear_model import LinearRegression"
   ]
  },
  {
   "cell_type": "code",
   "execution_count": 10,
   "id": "123f0033",
   "metadata": {},
   "outputs": [],
   "source": [
    "model = LinearRegression()"
   ]
  },
  {
   "cell_type": "markdown",
   "id": "2e714772",
   "metadata": {},
   "source": [
    "### 1.3.1 Training\n",
    "Linear Regression model with LinearRegression from skikit-learn package"
   ]
  },
  {
   "cell_type": "code",
   "execution_count": 11,
   "id": "ae276ef4",
   "metadata": {},
   "outputs": [
    {
     "data": {
      "text/plain": [
       "LinearRegression()"
      ]
     },
     "execution_count": 11,
     "metadata": {},
     "output_type": "execute_result"
    }
   ],
   "source": [
    "model.fit(X=data, y=y)"
   ]
  },
  {
   "cell_type": "markdown",
   "id": "5f4fc662",
   "metadata": {},
   "source": [
    "### 1.3.2 Bias and Coefficient"
   ]
  },
  {
   "cell_type": "code",
   "execution_count": 13,
   "id": "9616e024",
   "metadata": {},
   "outputs": [
    {
     "name": "stdout",
     "output_type": "stream",
     "text": [
      "1.0000000000000004\n",
      "[0.6]\n"
     ]
    }
   ],
   "source": [
    "print(model.intercept_)  # bias\n",
    "print(model.coef_)  # coefficient"
   ]
  },
  {
   "cell_type": "markdown",
   "id": "86540784",
   "metadata": {},
   "source": [
    "### 1.3.3 Prediction"
   ]
  },
  {
   "cell_type": "code",
   "execution_count": 14,
   "id": "bc75490f",
   "metadata": {},
   "outputs": [],
   "source": [
    "pred = model.predict(data)"
   ]
  },
  {
   "cell_type": "code",
   "execution_count": 15,
   "id": "31859d51",
   "metadata": {},
   "outputs": [
    {
     "data": {
      "text/plain": [
       "array([1.6, 2.2, 2.8, 3.4])"
      ]
     },
     "execution_count": 15,
     "metadata": {},
     "output_type": "execute_result"
    }
   ],
   "source": [
    "pred"
   ]
  },
  {
   "cell_type": "markdown",
   "id": "120b66f9",
   "metadata": {},
   "source": [
    "## 1.4 Plot and Sactter"
   ]
  },
  {
   "cell_type": "code",
   "execution_count": 17,
   "id": "7bdc410a",
   "metadata": {},
   "outputs": [
    {
     "data": {
      "text/plain": [
       "[<matplotlib.lines.Line2D at 0x7f8b2d6ae190>]"
      ]
     },
     "execution_count": 17,
     "metadata": {},
     "output_type": "execute_result"
    },
    {
     "data": {
      "image/png": "[encoded data removed]",
      "text/plain": [
       "<Figure size 432x288 with 1 Axes>"
      ]
     },
     "metadata": {
      "needs_background": "light"
     },
     "output_type": "display_data"
    }
   ],
   "source": [
    "plt.scatter(X, y)\n",
    "plt.plot(X, pred, color='green')"
   ]
  },
  {
   "cell_type": "markdown",
   "id": "b9398f20",
   "metadata": {},
   "source": [
    "# 2. Multivariate Regression"
   ]
  },
  {
   "cell_type": "markdown",
   "id": "d44097b4",
   "metadata": {},
   "source": [
    "## 2.1 Sample Data\n",
    "Simple Sample Data for Multivariate Regression"
   ]
  },
  {
   "cell_type": "code",
   "execution_count": 18,
   "id": "ea97188e",
   "metadata": {},
   "outputs": [],
   "source": [
    "bias = 1\n",
    "beta = np.array([2,3,4,5]).reshape(4, 1)\n",
    "noise = np.random.randn(100, 1)"
   ]
  },
  {
   "cell_type": "code",
   "execution_count": 19,
   "id": "83b7de40",
   "metadata": {},
   "outputs": [],
   "source": [
    "X = np.random.randn(100, 4)\n",
    "y = bias + X.dot(beta)\n",
    "y_with_noise = y + noise"
   ]
  },
  {
   "cell_type": "code",
   "execution_count": 20,
   "id": "9c118800",
   "metadata": {},
   "outputs": [
    {
     "data": {
      "text/plain": [
       "array([[-0.28689651, -1.64117434, -2.01449175, -0.38067858],\n",
       "       [ 0.84070035, -1.0659891 ,  0.39253668, -0.01708306],\n",
       "       [ 0.57996853,  0.17081044,  0.25746521, -0.1747546 ],\n",
       "       [-0.26220762, -1.492324  , -0.51367482,  0.30232325],\n",
       "       [-1.68503559,  1.81021357, -0.23144082, -0.48362959],\n",
       "       [-1.21067889, -1.73535342, -0.92426992,  0.95416358],\n",
       "       [ 1.12984836, -0.59711258, -0.67519295,  2.32168905],\n",
       "       [ 1.58295323, -1.54052915,  1.44616767,  0.18427423],\n",
       "       [ 0.21413282, -0.87147387, -1.25398238,  1.14069901],\n",
       "       [ 0.20168216,  1.97784089,  0.00610091,  0.63417783]])"
      ]
     },
     "execution_count": 20,
     "metadata": {},
     "output_type": "execute_result"
    }
   ],
   "source": [
    "X[:10]"
   ]
  },
  {
   "cell_type": "code",
   "execution_count": 21,
   "id": "fbc45984",
   "metadata": {},
   "outputs": [
    {
     "data": {
      "text/plain": [
       "array([[-1.44592039e+01],\n",
       "       [ 6.93263401e-01],\n",
       "       [ 2.68917066e+00],\n",
       "       [-2.55978407e+00],\n",
       "       [-1.23237547e-03],\n",
       "       [-4.79287120e+00],\n",
       "       [ 1.06770141e+01],\n",
       "       [ 6.79065811e+00],\n",
       "       [-1.25093146e-01],\n",
       "       [ 1.09099931e+01]])"
      ]
     },
     "execution_count": 21,
     "metadata": {},
     "output_type": "execute_result"
    }
   ],
   "source": [
    "y_with_noise[:10]"
   ]
  },
  {
   "cell_type": "markdown",
   "id": "00bed5e3",
   "metadata": {},
   "source": [
    "## 2.2 Multivariate Regression"
   ]
  },
  {
   "cell_type": "code",
   "execution_count": 22,
   "id": "d88a4a4e",
   "metadata": {},
   "outputs": [
    {
     "data": {
      "text/plain": [
       "LinearRegression()"
      ]
     },
     "execution_count": 22,
     "metadata": {},
     "output_type": "execute_result"
    }
   ],
   "source": [
    "model = LinearRegression()\n",
    "model.fit(X, y_with_noise)"
   ]
  },
  {
   "cell_type": "markdown",
   "id": "f07651f6",
   "metadata": {},
   "source": [
    "## 2.3 Bias and Coefficient"
   ]
  },
  {
   "cell_type": "code",
   "execution_count": 23,
   "id": "bb521c90",
   "metadata": {},
   "outputs": [
    {
     "name": "stdout",
     "output_type": "stream",
     "text": [
      "[0.99216452]\n",
      "[[2.0089763  2.99144342 3.987608   4.97903917]]\n"
     ]
    }
   ],
   "source": [
    "print(model.intercept_)\n",
    "print(model.coef_)"
   ]
  },
  {
   "cell_type": "markdown",
   "id": "6c0c7b25",
   "metadata": {},
   "source": [
    "## 2.4 Statistic Method"
   ]
  },
  {
   "cell_type": "code",
   "execution_count": 25,
   "id": "2f67fc74",
   "metadata": {},
   "outputs": [],
   "source": [
    "bias_X = np.array([1]*len(X)).reshape(-1, 1)\n",
    "stat_X = np.hstack([bias_X, X])\n",
    "X_X_transpose = stat_X.transpose().dot(stat_X)\n",
    "X_X_transpose_inverse = np.linalg.inv(X_X_transpose)"
   ]
  },
  {
   "cell_type": "code",
   "execution_count": 26,
   "id": "69c82e44",
   "metadata": {},
   "outputs": [],
   "source": [
    "stat_beta = X_X_transpose_inverse.dot(stat_X.transpose()).dot(y_with_noise)"
   ]
  },
  {
   "cell_type": "code",
   "execution_count": 27,
   "id": "c2c32b6d",
   "metadata": {},
   "outputs": [
    {
     "data": {
      "text/plain": [
       "array([[0.99216452],\n",
       "       [2.0089763 ],\n",
       "       [2.99144342],\n",
       "       [3.987608  ],\n",
       "       [4.97903917]])"
      ]
     },
     "execution_count": 27,
     "metadata": {},
     "output_type": "execute_result"
    }
   ],
   "source": [
    "stat_beta"
   ]
  },
  {
   "cell_type": "markdown",
   "id": "e8caec94",
   "metadata": {},
   "source": [
    "# 3. Polynomial Regression"
   ]
  },
  {
   "cell_type": "markdown",
   "id": "c4d0459f",
   "metadata": {},
   "source": [
    "## 3.1 Sample Data"
   ]
  },
  {
   "cell_type": "code",
   "execution_count": 32,
   "id": "6ad1a9b9",
   "metadata": {},
   "outputs": [],
   "source": [
    "bias = 1\n",
    "beta = np.array([2,3]).reshape(2,1)\n",
    "noise = np.random.randn(100, 1)"
   ]
  },
  {
   "cell_type": "code",
   "execution_count": 33,
   "id": "c0906560",
   "metadata": {},
   "outputs": [],
   "source": [
    "X = np.random.randn(100, 1)\n",
    "X_poly = np.hstack([X, X**2])"
   ]
  },
  {
   "cell_type": "code",
   "execution_count": 34,
   "id": "9c7644d7",
   "metadata": {},
   "outputs": [],
   "source": [
    "y = bias + X_poly.dot(beta)\n",
    "y_with_noise = y + noise"
   ]
  },
  {
   "cell_type": "code",
   "execution_count": 35,
   "id": "b0043064",
   "metadata": {},
   "outputs": [
    {
     "data": {
      "text/plain": [
       "<matplotlib.collections.PathCollection at 0x7f8b2d7856d0>"
      ]
     },
     "execution_count": 35,
     "metadata": {},
     "output_type": "execute_result"
    },
    {
     "data": {
      "image/png": "[encoded data removed]",
      "text/plain": [
       "<Figure size 432x288 with 1 Axes>"
      ]
     },
     "metadata": {
      "needs_background": "light"
     },
     "output_type": "display_data"
    }
   ],
   "source": [
    "plt.scatter(X, y_with_noise)"
   ]
  },
  {
   "cell_type": "markdown",
   "id": "c2b95d06",
   "metadata": {},
   "source": [
    "## 3.2 Polynomial Regression"
   ]
  },
  {
   "cell_type": "markdown",
   "id": "f56e0820",
   "metadata": {},
   "source": [
    "### 3.2.1 Training"
   ]
  },
  {
   "cell_type": "code",
   "execution_count": 36,
   "id": "dd190f76",
   "metadata": {},
   "outputs": [
    {
     "data": {
      "text/plain": [
       "LinearRegression()"
      ]
     },
     "execution_count": 36,
     "metadata": {},
     "output_type": "execute_result"
    }
   ],
   "source": [
    "model = LinearRegression()\n",
    "model.fit(X_poly, y_with_noise)"
   ]
  },
  {
   "cell_type": "markdown",
   "id": "ff68fc25",
   "metadata": {},
   "source": [
    "### 3.2.2 Bias and Coefficient"
   ]
  },
  {
   "cell_type": "code",
   "execution_count": 37,
   "id": "0dada187",
   "metadata": {},
   "outputs": [
    {
     "name": "stdout",
     "output_type": "stream",
     "text": [
      "[0.99887624]\n",
      "[[1.98170348 3.03499403]]\n"
     ]
    }
   ],
   "source": [
    "print(model.intercept_)\n",
    "print(model.coef_)"
   ]
  },
  {
   "cell_type": "markdown",
   "id": "c230a19c",
   "metadata": {},
   "source": [
    "## 3.3 Prediction"
   ]
  },
  {
   "cell_type": "code",
   "execution_count": 38,
   "id": "8fa6a77a",
   "metadata": {},
   "outputs": [
    {
     "data": {
      "text/plain": [
       "<matplotlib.collections.PathCollection at 0x7f8b2e8677c0>"
      ]
     },
     "execution_count": 38,
     "metadata": {},
     "output_type": "execute_result"
    },
    {
     "data": {
      "image/png": "[encoded data removed]",
      "text/plain": [
       "<Figure size 432x288 with 1 Axes>"
      ]
     },
     "metadata": {
      "needs_background": "light"
     },
     "output_type": "display_data"
    }
   ],
   "source": [
    "pred = model.predict(X_poly)\n",
    "plt.scatter(X, pred)"
   ]
  },
  {
   "cell_type": "code",
   "execution_count": null,
   "id": "eb68ff7b",
   "metadata": {},
   "outputs": [],
   "source": []
  }
 ],
 "metadata": {
  "kernelspec": {
   "display_name": "Python 3 (ipykernel)",
   "language": "python",
   "name": "python3"
  },
  "language_info": {
   "codemirror_mode": {
    "name": "ipython",
    "version": 3
   },
   "file_extension": ".py",
   "mimetype": "text/x-python",
   "name": "python",
   "nbconvert_exporter": "python",
   "pygments_lexer": "ipython3",
   "version": "3.9.7"
  }
 },
 "nbformat": 4,
 "nbformat_minor": 5
}
